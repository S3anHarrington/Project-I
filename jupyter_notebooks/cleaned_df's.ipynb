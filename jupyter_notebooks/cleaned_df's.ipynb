{
 "cells": [
  {
   "cell_type": "code",
   "execution_count": 10,
   "id": "61e5b7a0-c590-4e16-9759-d56179db1464",
   "metadata": {},
   "outputs": [],
   "source": [
    "import sys \n",
    "import fire\n",
    "import csv\n",
    "import questionary\n",
    "import pandas as pd \n",
    "from pathlib import Path\n",
    "\n",
    "import plotly.express as px\n",
    "import plotly.offline as pyo\n",
    "import plotly.graph_objects as go"
   ]
  },
  {
   "cell_type": "code",
   "execution_count": 12,
   "id": "4a044bdf-a9cb-44d7-8908-b36a087c3478",
   "metadata": {},
   "outputs": [
    {
     "data": {
      "text/html": [
       "<div>\n",
       "<style scoped>\n",
       "    .dataframe tbody tr th:only-of-type {\n",
       "        vertical-align: middle;\n",
       "    }\n",
       "\n",
       "    .dataframe tbody tr th {\n",
       "        vertical-align: top;\n",
       "    }\n",
       "\n",
       "    .dataframe thead th {\n",
       "        text-align: right;\n",
       "    }\n",
       "</style>\n",
       "<table border=\"1\" class=\"dataframe\">\n",
       "  <thead>\n",
       "    <tr style=\"text-align: right;\">\n",
       "      <th></th>\n",
       "      <th>Close/Last</th>\n",
       "    </tr>\n",
       "    <tr>\n",
       "      <th>Date</th>\n",
       "      <th></th>\n",
       "    </tr>\n",
       "  </thead>\n",
       "  <tbody>\n",
       "    <tr>\n",
       "      <th>2022-01-20</th>\n",
       "      <td>790.25</td>\n",
       "    </tr>\n",
       "    <tr>\n",
       "      <th>2022-01-19</th>\n",
       "      <td>796.50</td>\n",
       "    </tr>\n",
       "    <tr>\n",
       "      <th>2022-01-18</th>\n",
       "      <td>769.00</td>\n",
       "    </tr>\n",
       "    <tr>\n",
       "      <th>2022-01-14</th>\n",
       "      <td>741.50</td>\n",
       "    </tr>\n",
       "    <tr>\n",
       "      <th>2022-01-13</th>\n",
       "      <td>746.75</td>\n",
       "    </tr>\n",
       "    <tr>\n",
       "      <th>...</th>\n",
       "      <td>...</td>\n",
       "    </tr>\n",
       "    <tr>\n",
       "      <th>2017-01-26</th>\n",
       "      <td>420.50</td>\n",
       "    </tr>\n",
       "    <tr>\n",
       "      <th>2017-01-25</th>\n",
       "      <td>427.00</td>\n",
       "    </tr>\n",
       "    <tr>\n",
       "      <th>2017-01-24</th>\n",
       "      <td>424.50</td>\n",
       "    </tr>\n",
       "    <tr>\n",
       "      <th>2017-01-23</th>\n",
       "      <td>426.75</td>\n",
       "    </tr>\n",
       "    <tr>\n",
       "      <th>2017-01-20</th>\n",
       "      <td>428.25</td>\n",
       "    </tr>\n",
       "  </tbody>\n",
       "</table>\n",
       "<p>1260 rows × 1 columns</p>\n",
       "</div>"
      ],
      "text/plain": [
       "            Close/Last\n",
       "Date                  \n",
       "2022-01-20      790.25\n",
       "2022-01-19      796.50\n",
       "2022-01-18      769.00\n",
       "2022-01-14      741.50\n",
       "2022-01-13      746.75\n",
       "...                ...\n",
       "2017-01-26      420.50\n",
       "2017-01-25      427.00\n",
       "2017-01-24      424.50\n",
       "2017-01-23      426.75\n",
       "2017-01-20      428.25\n",
       "\n",
       "[1260 rows x 1 columns]"
      ]
     },
     "execution_count": 12,
     "metadata": {},
     "output_type": "execute_result"
    }
   ],
   "source": [
    "wheat_df = pd.read_csv(\n",
    "    Path(\"../csv_data/csv_files_agriculture/zw_wheat.csv\"),\n",
    "    index_col='Date',\n",
    "    parse_dates=True,\n",
    "    infer_datetime_format=True\n",
    ")\n",
    "\n",
    "\n",
    "wheat_df = wheat_df.drop(columns=['Volume', 'Open', 'High', 'Low'])\n",
    "wheat_df\n"
   ]
  },
  {
   "cell_type": "code",
   "execution_count": 13,
   "id": "bf22c5ae-2e43-4939-bd64-db59ca3718ef",
   "metadata": {},
   "outputs": [
    {
     "data": {
      "text/html": [
       "<div>\n",
       "<style scoped>\n",
       "    .dataframe tbody tr th:only-of-type {\n",
       "        vertical-align: middle;\n",
       "    }\n",
       "\n",
       "    .dataframe tbody tr th {\n",
       "        vertical-align: top;\n",
       "    }\n",
       "\n",
       "    .dataframe thead th {\n",
       "        text-align: right;\n",
       "    }\n",
       "</style>\n",
       "<table border=\"1\" class=\"dataframe\">\n",
       "  <thead>\n",
       "    <tr style=\"text-align: right;\">\n",
       "      <th></th>\n",
       "      <th>Wheat</th>\n",
       "    </tr>\n",
       "    <tr>\n",
       "      <th>Date</th>\n",
       "      <th></th>\n",
       "    </tr>\n",
       "  </thead>\n",
       "  <tbody>\n",
       "    <tr>\n",
       "      <th>2022-01-20</th>\n",
       "      <td>790.25</td>\n",
       "    </tr>\n",
       "    <tr>\n",
       "      <th>2022-01-19</th>\n",
       "      <td>796.50</td>\n",
       "    </tr>\n",
       "    <tr>\n",
       "      <th>2022-01-18</th>\n",
       "      <td>769.00</td>\n",
       "    </tr>\n",
       "    <tr>\n",
       "      <th>2022-01-14</th>\n",
       "      <td>741.50</td>\n",
       "    </tr>\n",
       "    <tr>\n",
       "      <th>2022-01-13</th>\n",
       "      <td>746.75</td>\n",
       "    </tr>\n",
       "    <tr>\n",
       "      <th>...</th>\n",
       "      <td>...</td>\n",
       "    </tr>\n",
       "    <tr>\n",
       "      <th>2017-01-26</th>\n",
       "      <td>420.50</td>\n",
       "    </tr>\n",
       "    <tr>\n",
       "      <th>2017-01-25</th>\n",
       "      <td>427.00</td>\n",
       "    </tr>\n",
       "    <tr>\n",
       "      <th>2017-01-24</th>\n",
       "      <td>424.50</td>\n",
       "    </tr>\n",
       "    <tr>\n",
       "      <th>2017-01-23</th>\n",
       "      <td>426.75</td>\n",
       "    </tr>\n",
       "    <tr>\n",
       "      <th>2017-01-20</th>\n",
       "      <td>428.25</td>\n",
       "    </tr>\n",
       "  </tbody>\n",
       "</table>\n",
       "<p>1260 rows × 1 columns</p>\n",
       "</div>"
      ],
      "text/plain": [
       "             Wheat\n",
       "Date              \n",
       "2022-01-20  790.25\n",
       "2022-01-19  796.50\n",
       "2022-01-18  769.00\n",
       "2022-01-14  741.50\n",
       "2022-01-13  746.75\n",
       "...            ...\n",
       "2017-01-26  420.50\n",
       "2017-01-25  427.00\n",
       "2017-01-24  424.50\n",
       "2017-01-23  426.75\n",
       "2017-01-20  428.25\n",
       "\n",
       "[1260 rows x 1 columns]"
      ]
     },
     "execution_count": 13,
     "metadata": {},
     "output_type": "execute_result"
    }
   ],
   "source": [
    "wheat_df = wheat_df.rename(columns={'Close/Last' : 'Wheat'})\n",
    "wheat_df"
   ]
  },
  {
   "cell_type": "code",
   "execution_count": 14,
   "id": "c1cfe441-d387-447e-a958-39437635294b",
   "metadata": {},
   "outputs": [
    {
     "data": {
      "text/html": [
       "<div>\n",
       "<style scoped>\n",
       "    .dataframe tbody tr th:only-of-type {\n",
       "        vertical-align: middle;\n",
       "    }\n",
       "\n",
       "    .dataframe tbody tr th {\n",
       "        vertical-align: top;\n",
       "    }\n",
       "\n",
       "    .dataframe thead th {\n",
       "        text-align: right;\n",
       "    }\n",
       "</style>\n",
       "<table border=\"1\" class=\"dataframe\">\n",
       "  <thead>\n",
       "    <tr style=\"text-align: right;\">\n",
       "      <th></th>\n",
       "      <th>Wheat</th>\n",
       "    </tr>\n",
       "    <tr>\n",
       "      <th>Date</th>\n",
       "      <th></th>\n",
       "    </tr>\n",
       "  </thead>\n",
       "  <tbody>\n",
       "    <tr>\n",
       "      <th>2020-04-15</th>\n",
       "      <td>540.50</td>\n",
       "    </tr>\n",
       "    <tr>\n",
       "      <th>2020-04-16</th>\n",
       "      <td>530.50</td>\n",
       "    </tr>\n",
       "    <tr>\n",
       "      <th>2020-04-17</th>\n",
       "      <td>533.75</td>\n",
       "    </tr>\n",
       "    <tr>\n",
       "      <th>2020-04-20</th>\n",
       "      <td>547.50</td>\n",
       "    </tr>\n",
       "    <tr>\n",
       "      <th>2020-04-21</th>\n",
       "      <td>548.75</td>\n",
       "    </tr>\n",
       "  </tbody>\n",
       "</table>\n",
       "</div>"
      ],
      "text/plain": [
       "             Wheat\n",
       "Date              \n",
       "2020-04-15  540.50\n",
       "2020-04-16  530.50\n",
       "2020-04-17  533.75\n",
       "2020-04-20  547.50\n",
       "2020-04-21  548.75"
      ]
     },
     "execution_count": 14,
     "metadata": {},
     "output_type": "execute_result"
    }
   ],
   "source": [
    "# Filtering my dataframes so that dates that are unused are removed.\n",
    "\n",
    "\n",
    "wheat_cleaned = wheat_df.sort_index().truncate(before = '04/15/2020', after ='12/31/2021')\n",
    "wheat_cleaned.head()\n",
    "\n"
   ]
  },
  {
   "cell_type": "code",
   "execution_count": 15,
   "id": "da9bee85-e98b-4218-9ced-6fe293832d96",
   "metadata": {},
   "outputs": [
    {
     "data": {
      "text/plain": [
       "Wheat    float64\n",
       "dtype: object"
      ]
     },
     "execution_count": 15,
     "metadata": {},
     "output_type": "execute_result"
    }
   ],
   "source": [
    "\n",
    "wheat_cleaned.dtypes"
   ]
  },
  {
   "cell_type": "code",
   "execution_count": 17,
   "id": "9b2a4764-c935-4265-866b-946a21580fef",
   "metadata": {},
   "outputs": [
    {
     "data": {
      "text/html": [
       "<div>\n",
       "<style scoped>\n",
       "    .dataframe tbody tr th:only-of-type {\n",
       "        vertical-align: middle;\n",
       "    }\n",
       "\n",
       "    .dataframe tbody tr th {\n",
       "        vertical-align: top;\n",
       "    }\n",
       "\n",
       "    .dataframe thead th {\n",
       "        text-align: right;\n",
       "    }\n",
       "</style>\n",
       "<table border=\"1\" class=\"dataframe\">\n",
       "  <thead>\n",
       "    <tr style=\"text-align: right;\">\n",
       "      <th></th>\n",
       "      <th>Close/Last</th>\n",
       "    </tr>\n",
       "    <tr>\n",
       "      <th>Date</th>\n",
       "      <th></th>\n",
       "    </tr>\n",
       "  </thead>\n",
       "  <tbody>\n",
       "    <tr>\n",
       "      <th>2022-01-20</th>\n",
       "      <td>611.00</td>\n",
       "    </tr>\n",
       "    <tr>\n",
       "      <th>2022-01-19</th>\n",
       "      <td>610.50</td>\n",
       "    </tr>\n",
       "    <tr>\n",
       "      <th>2022-01-18</th>\n",
       "      <td>599.50</td>\n",
       "    </tr>\n",
       "    <tr>\n",
       "      <th>2022-01-14</th>\n",
       "      <td>596.25</td>\n",
       "    </tr>\n",
       "    <tr>\n",
       "      <th>2022-01-13</th>\n",
       "      <td>587.50</td>\n",
       "    </tr>\n",
       "    <tr>\n",
       "      <th>...</th>\n",
       "      <td>...</td>\n",
       "    </tr>\n",
       "    <tr>\n",
       "      <th>2017-01-26</th>\n",
       "      <td>363.75</td>\n",
       "    </tr>\n",
       "    <tr>\n",
       "      <th>2017-01-25</th>\n",
       "      <td>366.25</td>\n",
       "    </tr>\n",
       "    <tr>\n",
       "      <th>2017-01-24</th>\n",
       "      <td>363.25</td>\n",
       "    </tr>\n",
       "    <tr>\n",
       "      <th>2017-01-23</th>\n",
       "      <td>369.50</td>\n",
       "    </tr>\n",
       "    <tr>\n",
       "      <th>2017-01-20</th>\n",
       "      <td>369.75</td>\n",
       "    </tr>\n",
       "  </tbody>\n",
       "</table>\n",
       "<p>1260 rows × 1 columns</p>\n",
       "</div>"
      ],
      "text/plain": [
       "            Close/Last\n",
       "Date                  \n",
       "2022-01-20      611.00\n",
       "2022-01-19      610.50\n",
       "2022-01-18      599.50\n",
       "2022-01-14      596.25\n",
       "2022-01-13      587.50\n",
       "...                ...\n",
       "2017-01-26      363.75\n",
       "2017-01-25      366.25\n",
       "2017-01-24      363.25\n",
       "2017-01-23      369.50\n",
       "2017-01-20      369.75\n",
       "\n",
       "[1260 rows x 1 columns]"
      ]
     },
     "execution_count": 17,
     "metadata": {},
     "output_type": "execute_result"
    }
   ],
   "source": [
    "corn_df = pd.read_csv(\n",
    "    Path(\"../csv_data/csv_files_agriculture/zc_corn.csv\"),\n",
    "    index_col='Date',\n",
    "    parse_dates=True,\n",
    "    infer_datetime_format=True\n",
    ")\n",
    "\n",
    "corn_df = corn_df.drop(columns=['Volume', 'Open', 'High', 'Low'])\n",
    "corn_df"
   ]
  },
  {
   "cell_type": "code",
   "execution_count": null,
   "id": "f383032d-51da-4918-9ca7-677579ce2e9a",
   "metadata": {},
   "outputs": [],
   "source": [
    "corn_df = corn_df.rename(columns={'Close/Last' : 'Corn'})\n",
    "corn_df"
   ]
  },
  {
   "cell_type": "code",
   "execution_count": null,
   "id": "dd4759ba-9f65-47c8-9d01-f97058d895de",
   "metadata": {},
   "outputs": [],
   "source": [
    "\n",
    "# Filtering my dataframes so that dates that are unused are removed.\n",
    "corn_cleaned = corn_df.sort_index().truncate(before = '04/15/2020', after ='12/31/2021')\n",
    "corn_cleaned"
   ]
  },
  {
   "cell_type": "code",
   "execution_count": 18,
   "id": "4fad6d99-10cf-4b94-8396-3459d19e0881",
   "metadata": {},
   "outputs": [
    {
     "data": {
      "text/html": [
       "<div>\n",
       "<style scoped>\n",
       "    .dataframe tbody tr th:only-of-type {\n",
       "        vertical-align: middle;\n",
       "    }\n",
       "\n",
       "    .dataframe tbody tr th {\n",
       "        vertical-align: top;\n",
       "    }\n",
       "\n",
       "    .dataframe thead th {\n",
       "        text-align: right;\n",
       "    }\n",
       "</style>\n",
       "<table border=\"1\" class=\"dataframe\">\n",
       "  <thead>\n",
       "    <tr style=\"text-align: right;\">\n",
       "      <th></th>\n",
       "      <th>Close/Last</th>\n",
       "    </tr>\n",
       "    <tr>\n",
       "      <th>Date</th>\n",
       "      <th></th>\n",
       "    </tr>\n",
       "  </thead>\n",
       "  <tbody>\n",
       "    <tr>\n",
       "      <th>2022-01-20</th>\n",
       "      <td>138.325</td>\n",
       "    </tr>\n",
       "    <tr>\n",
       "      <th>2022-01-19</th>\n",
       "      <td>138.550</td>\n",
       "    </tr>\n",
       "    <tr>\n",
       "      <th>2022-01-18</th>\n",
       "      <td>137.675</td>\n",
       "    </tr>\n",
       "    <tr>\n",
       "      <th>2022-01-14</th>\n",
       "      <td>137.975</td>\n",
       "    </tr>\n",
       "    <tr>\n",
       "      <th>2022-01-13</th>\n",
       "      <td>137.000</td>\n",
       "    </tr>\n",
       "    <tr>\n",
       "      <th>...</th>\n",
       "      <td>...</td>\n",
       "    </tr>\n",
       "    <tr>\n",
       "      <th>2017-01-26</th>\n",
       "      <td>118.700</td>\n",
       "    </tr>\n",
       "    <tr>\n",
       "      <th>2017-01-25</th>\n",
       "      <td>119.875</td>\n",
       "    </tr>\n",
       "    <tr>\n",
       "      <th>2017-01-24</th>\n",
       "      <td>119.675</td>\n",
       "    </tr>\n",
       "    <tr>\n",
       "      <th>2017-01-23</th>\n",
       "      <td>120.250</td>\n",
       "    </tr>\n",
       "    <tr>\n",
       "      <th>2017-01-20</th>\n",
       "      <td>120.250</td>\n",
       "    </tr>\n",
       "  </tbody>\n",
       "</table>\n",
       "<p>1260 rows × 1 columns</p>\n",
       "</div>"
      ],
      "text/plain": [
       "            Close/Last\n",
       "Date                  \n",
       "2022-01-20     138.325\n",
       "2022-01-19     138.550\n",
       "2022-01-18     137.675\n",
       "2022-01-14     137.975\n",
       "2022-01-13     137.000\n",
       "...                ...\n",
       "2017-01-26     118.700\n",
       "2017-01-25     119.875\n",
       "2017-01-24     119.675\n",
       "2017-01-23     120.250\n",
       "2017-01-20     120.250\n",
       "\n",
       "[1260 rows x 1 columns]"
      ]
     },
     "execution_count": 18,
     "metadata": {},
     "output_type": "execute_result"
    }
   ],
   "source": [
    "fd_cattle_df = pd.read_csv(\n",
    "    Path(\"../csv_data/csv_files_agriculture/fd_cattle.csv\"),\n",
    "    index_col='Date',\n",
    "    parse_dates=True,\n",
    "    infer_datetime_format=True\n",
    ")\n",
    "\n",
    "fd_cattle_df = fd_cattle_df.drop(columns=['Volume', 'Open', 'High', 'Low'])\n",
    "fd_cattle_df\n",
    "\n",
    "\n"
   ]
  },
  {
   "cell_type": "code",
   "execution_count": null,
   "id": "c32dad0e-f7fb-465a-b0e4-f184514fb491",
   "metadata": {},
   "outputs": [],
   "source": [
    "fd_cattle_df = fd_cattle_df.rename(columns={'Close/Last' : 'FD Cattle'})\n",
    "fd_cattle_df"
   ]
  },
  {
   "cell_type": "code",
   "execution_count": null,
   "id": "7e697082-50ac-47b8-847e-3e588596f9e4",
   "metadata": {},
   "outputs": [],
   "source": [
    "# Filtering my dataframes so that dates that are unused are removed.\n",
    "fd_cattle_cleaned = fd_cattle_df.sort_index().truncate(before = '04/15/2020', after ='12/31/2021')\n",
    "fd_cattle_cleaned.head()"
   ]
  },
  {
   "cell_type": "code",
   "execution_count": null,
   "id": "a5907803-e756-4e72-9114-cbdc82699fbd",
   "metadata": {},
   "outputs": [],
   "source": [
    "fd_cattle_cleaned.dtypes"
   ]
  },
  {
   "cell_type": "code",
   "execution_count": 19,
   "id": "574b06d6-3fec-48b2-8f3d-e8b696e96619",
   "metadata": {},
   "outputs": [
    {
     "data": {
      "text/html": [
       "<div>\n",
       "<style scoped>\n",
       "    .dataframe tbody tr th:only-of-type {\n",
       "        vertical-align: middle;\n",
       "    }\n",
       "\n",
       "    .dataframe tbody tr th {\n",
       "        vertical-align: top;\n",
       "    }\n",
       "\n",
       "    .dataframe thead th {\n",
       "        text-align: right;\n",
       "    }\n",
       "</style>\n",
       "<table border=\"1\" class=\"dataframe\">\n",
       "  <thead>\n",
       "    <tr style=\"text-align: right;\">\n",
       "      <th></th>\n",
       "      <th>Close/Last</th>\n",
       "    </tr>\n",
       "    <tr>\n",
       "      <th>Date</th>\n",
       "      <th></th>\n",
       "    </tr>\n",
       "  </thead>\n",
       "  <tbody>\n",
       "    <tr>\n",
       "      <th>2022-01-20</th>\n",
       "      <td>94.000</td>\n",
       "    </tr>\n",
       "    <tr>\n",
       "      <th>2022-01-19</th>\n",
       "      <td>91.350</td>\n",
       "    </tr>\n",
       "    <tr>\n",
       "      <th>2022-01-18</th>\n",
       "      <td>89.275</td>\n",
       "    </tr>\n",
       "    <tr>\n",
       "      <th>2022-01-14</th>\n",
       "      <td>88.450</td>\n",
       "    </tr>\n",
       "    <tr>\n",
       "      <th>2022-01-13</th>\n",
       "      <td>85.325</td>\n",
       "    </tr>\n",
       "    <tr>\n",
       "      <th>...</th>\n",
       "      <td>...</td>\n",
       "    </tr>\n",
       "    <tr>\n",
       "      <th>2017-01-26</th>\n",
       "      <td>67.225</td>\n",
       "    </tr>\n",
       "    <tr>\n",
       "      <th>2017-01-25</th>\n",
       "      <td>70.150</td>\n",
       "    </tr>\n",
       "    <tr>\n",
       "      <th>2017-01-24</th>\n",
       "      <td>67.625</td>\n",
       "    </tr>\n",
       "    <tr>\n",
       "      <th>2017-01-23</th>\n",
       "      <td>67.775</td>\n",
       "    </tr>\n",
       "    <tr>\n",
       "      <th>2017-01-20</th>\n",
       "      <td>68.475</td>\n",
       "    </tr>\n",
       "  </tbody>\n",
       "</table>\n",
       "<p>1260 rows × 1 columns</p>\n",
       "</div>"
      ],
      "text/plain": [
       "            Close/Last\n",
       "Date                  \n",
       "2022-01-20      94.000\n",
       "2022-01-19      91.350\n",
       "2022-01-18      89.275\n",
       "2022-01-14      88.450\n",
       "2022-01-13      85.325\n",
       "...                ...\n",
       "2017-01-26      67.225\n",
       "2017-01-25      70.150\n",
       "2017-01-24      67.625\n",
       "2017-01-23      67.775\n",
       "2017-01-20      68.475\n",
       "\n",
       "[1260 rows x 1 columns]"
      ]
     },
     "execution_count": 19,
     "metadata": {},
     "output_type": "execute_result"
    }
   ],
   "source": [
    "hogs_df = pd.read_csv(\n",
    "    Path(\"../csv_data/csv_files_agriculture/he_hogs.csv\"),\n",
    "    index_col='Date',\n",
    "    parse_dates=True,\n",
    "    infer_datetime_format=True\n",
    ")\n",
    "\n",
    "hogs_df = hogs_df.drop(columns=['Volume', 'Open', 'High', 'Low'])\n",
    "hogs_df\n"
   ]
  },
  {
   "cell_type": "code",
   "execution_count": null,
   "id": "6f6a2d9b-d6ab-4b66-888f-284d0a087967",
   "metadata": {},
   "outputs": [],
   "source": [
    "hogs_df = hogs_df.rename(columns={'Close/Last' : 'Hogs'})\n",
    "hogs_df"
   ]
  },
  {
   "cell_type": "code",
   "execution_count": null,
   "id": "b6197981-5446-4ec6-999b-8ec37265d461",
   "metadata": {},
   "outputs": [],
   "source": [
    "# Filtering my dataframes so that dates that are unused are removed.\n",
    "hogs_cleaned = hogs_df.sort_index().truncate(before = '04/15/2020', after ='12/31/2021')\n",
    "hogs_cleaned"
   ]
  },
  {
   "cell_type": "code",
   "execution_count": null,
   "id": "29a00269-b3ff-4cfb-8dae-45cc2197c7e4",
   "metadata": {},
   "outputs": [],
   "source": [
    "hogs_cleaned.dtypes"
   ]
  },
  {
   "cell_type": "code",
   "execution_count": 20,
   "id": "0f827186-3322-4ab5-8b4e-d6a9376c2487",
   "metadata": {},
   "outputs": [],
   "source": [
    "gf_cattle = pd.read_csv(\n",
    "    Path(\"../csv_data/csv_files_agriculture/gf_cattle.csv\"),\n",
    "    index_col='Date',\n",
    "    parse_dates=True,\n",
    "    infer_datetime_format=True\n",
    ")\n",
    "\n",
    "gf_cattle = gf_cattle.drop(columns=['Volume', 'Open', 'High', 'Low'])\n",
    "\n"
   ]
  },
  {
   "cell_type": "code",
   "execution_count": 21,
   "id": "991724c7-7ae9-4833-9a8e-12d4710370cd",
   "metadata": {},
   "outputs": [
    {
     "data": {
      "text/html": [
       "<div>\n",
       "<style scoped>\n",
       "    .dataframe tbody tr th:only-of-type {\n",
       "        vertical-align: middle;\n",
       "    }\n",
       "\n",
       "    .dataframe tbody tr th {\n",
       "        vertical-align: top;\n",
       "    }\n",
       "\n",
       "    .dataframe thead th {\n",
       "        text-align: right;\n",
       "    }\n",
       "</style>\n",
       "<table border=\"1\" class=\"dataframe\">\n",
       "  <thead>\n",
       "    <tr style=\"text-align: right;\">\n",
       "      <th></th>\n",
       "      <th>GF Cattle</th>\n",
       "    </tr>\n",
       "    <tr>\n",
       "      <th>Date</th>\n",
       "      <th></th>\n",
       "    </tr>\n",
       "  </thead>\n",
       "  <tbody>\n",
       "    <tr>\n",
       "      <th>2022-01-21</th>\n",
       "      <td>163.300</td>\n",
       "    </tr>\n",
       "    <tr>\n",
       "      <th>2022-01-20</th>\n",
       "      <td>164.950</td>\n",
       "    </tr>\n",
       "    <tr>\n",
       "      <th>2022-01-19</th>\n",
       "      <td>165.625</td>\n",
       "    </tr>\n",
       "    <tr>\n",
       "      <th>2022-01-18</th>\n",
       "      <td>165.425</td>\n",
       "    </tr>\n",
       "    <tr>\n",
       "      <th>2022-01-14</th>\n",
       "      <td>166.375</td>\n",
       "    </tr>\n",
       "    <tr>\n",
       "      <th>...</th>\n",
       "      <td>...</td>\n",
       "    </tr>\n",
       "    <tr>\n",
       "      <th>2017-01-27</th>\n",
       "      <td>127.450</td>\n",
       "    </tr>\n",
       "    <tr>\n",
       "      <th>2017-01-26</th>\n",
       "      <td>127.100</td>\n",
       "    </tr>\n",
       "    <tr>\n",
       "      <th>2017-01-25</th>\n",
       "      <td>129.850</td>\n",
       "    </tr>\n",
       "    <tr>\n",
       "      <th>2017-01-24</th>\n",
       "      <td>130.175</td>\n",
       "    </tr>\n",
       "    <tr>\n",
       "      <th>2017-01-23</th>\n",
       "      <td>130.675</td>\n",
       "    </tr>\n",
       "  </tbody>\n",
       "</table>\n",
       "<p>1260 rows × 1 columns</p>\n",
       "</div>"
      ],
      "text/plain": [
       "            GF Cattle\n",
       "Date                 \n",
       "2022-01-21    163.300\n",
       "2022-01-20    164.950\n",
       "2022-01-19    165.625\n",
       "2022-01-18    165.425\n",
       "2022-01-14    166.375\n",
       "...               ...\n",
       "2017-01-27    127.450\n",
       "2017-01-26    127.100\n",
       "2017-01-25    129.850\n",
       "2017-01-24    130.175\n",
       "2017-01-23    130.675\n",
       "\n",
       "[1260 rows x 1 columns]"
      ]
     },
     "execution_count": 21,
     "metadata": {},
     "output_type": "execute_result"
    }
   ],
   "source": [
    "gf_cattle = gf_cattle.rename(columns={'Close/Last' : 'GF Cattle'})\n",
    "gf_cattle"
   ]
  },
  {
   "cell_type": "code",
   "execution_count": null,
   "id": "3fb69bb3-de11-4955-bf07-660febe6c3e1",
   "metadata": {},
   "outputs": [],
   "source": [
    "# Filtering my dataframes so that dates that are unused are removed.\n",
    "gf_cattle_cleaned = gf_cattle.sort_index().truncate(before = '04/15/2020', after ='12/31/2021')\n",
    "gf_cattle_cleaned"
   ]
  },
  {
   "cell_type": "code",
   "execution_count": null,
   "id": "93a5122d-ad40-4854-8445-c0b18d51e8ad",
   "metadata": {},
   "outputs": [],
   "source": [
    "# Using Concat to combine all dataframes into one\n",
    "\n",
    "agriculture_df_closing_price = pd.concat([wheat_cleaned, corn_cleaned, fd_cattle_cleaned, hogs_cleaned, gf_cattle_cleaned], axis = 1, join = \"inner\")\n",
    "agriculture_df_closing_price"
   ]
  },
  {
   "cell_type": "code",
   "execution_count": null,
   "id": "18f57bc6-1ed8-4877-84c3-b6f9986c70c3",
   "metadata": {},
   "outputs": [],
   "source": [
    "agriculture_df_daily_returns = agriculture_df_closing_price.pct_change().dropna()"
   ]
  },
  {
   "cell_type": "code",
   "execution_count": null,
   "id": "29adc4ee-71d1-4e61-9930-379859db50be",
   "metadata": {},
   "outputs": [],
   "source": [
    "agriculture_df_daily_returns"
   ]
  },
  {
   "cell_type": "code",
   "execution_count": null,
   "id": "f5db0113-d965-47c1-989f-9d3fcf1e4319",
   "metadata": {},
   "outputs": [],
   "source": [
    "#define the stimulus starting amoung in var\n",
    "starting_value= float(input(\"starting amount\"))\n",
    "\n"
   ]
  },
  {
   "cell_type": "code",
   "execution_count": null,
   "id": "d42d139b-42c0-49e7-85de-90bd0a628882",
   "metadata": {},
   "outputs": [],
   "source": [
    "starting_value"
   ]
  },
  {
   "cell_type": "code",
   "execution_count": null,
   "id": "b7e3b142-1ee3-4e58-a8f7-1479b092b782",
   "metadata": {},
   "outputs": [],
   "source": [
    "# Calculate daily returns for Wheat in a new dataframe\n",
    "\n",
    "wheat_daily_returns = wheat_cleaned.pct_change()\n",
    "\n",
    "wheat_daily_returns.head()"
   ]
  },
  {
   "cell_type": "code",
   "execution_count": null,
   "id": "0f379bbc-6981-4223-bfa7-4a50e16bf9af",
   "metadata": {},
   "outputs": [],
   "source": [
    "wheat_daily_returns['Portfolio'] = pd.NaT\n",
    "\n",
    "wheat_daily_returns"
   ]
  },
  {
   "cell_type": "code",
   "execution_count": null,
   "id": "89aab701-b237-4544-a507-710bd394b380",
   "metadata": {},
   "outputs": [],
   "source": [
    "wheat_daily_returns = wheat_daily_returns.assign(Portfolio=(1+wheat_daily_returns['Wheat'].fillna(0)).cumprod().mul(starting_value))\n"
   ]
  },
  {
   "cell_type": "code",
   "execution_count": null,
   "id": "ad65cd88-d9f0-4d01-b20f-ea860c215735",
   "metadata": {},
   "outputs": [],
   "source": [
    "#Rename columns. \n",
    "wheat = wheat_daily_returns.rename(columns={'Wheat':'Wheat Daily Returns',\"Portfolio\":\"Wheat Port\"})"
   ]
  },
  {
   "cell_type": "code",
   "execution_count": null,
   "id": "333ed3ec-cfcb-4e30-977b-c7fdabd14217",
   "metadata": {},
   "outputs": [],
   "source": [
    "wheat.head()"
   ]
  },
  {
   "cell_type": "code",
   "execution_count": null,
   "id": "caac123e-87ad-4203-9475-c111a4ad9ed7",
   "metadata": {},
   "outputs": [],
   "source": [
    "corn_daily_returns = corn_cleaned.pct_change()\n",
    "\n",
    "corn_daily_returns.head()"
   ]
  },
  {
   "cell_type": "code",
   "execution_count": null,
   "id": "acaecb29-4e66-4bde-bbec-96cd1ec2b123",
   "metadata": {},
   "outputs": [],
   "source": [
    "corn_daily_returns['Portfolio'] = pd.NaT\n",
    "\n",
    "corn_daily_returns"
   ]
  },
  {
   "cell_type": "code",
   "execution_count": null,
   "id": "2683449f-c821-4605-bd19-40ea73ef8924",
   "metadata": {},
   "outputs": [],
   "source": [
    "corn_daily_returns = corn_daily_returns.assign(Portfolio=(1+corn_daily_returns['Corn'].fillna(0)).cumprod().mul(starting_value))"
   ]
  },
  {
   "cell_type": "code",
   "execution_count": null,
   "id": "62c642df-a3d4-4e06-b53e-cce08ea487fd",
   "metadata": {},
   "outputs": [],
   "source": [
    "corn = corn_daily_returns.rename(columns={'Corn':'Corn Daily Returns',\"Portfolio\":\"Corn Port\"})"
   ]
  },
  {
   "cell_type": "code",
   "execution_count": null,
   "id": "b0f9b801-4eb1-413b-b0a8-5a54e87c91fd",
   "metadata": {},
   "outputs": [],
   "source": [
    "corn.tail()"
   ]
  },
  {
   "cell_type": "code",
   "execution_count": null,
   "id": "1a6e5364-fb4e-47d0-9a78-da4c7cd4c179",
   "metadata": {},
   "outputs": [],
   "source": [
    "fd_cattle_daily_returns = fd_cattle_cleaned.pct_change()\n",
    "\n",
    "fd_cattle_daily_returns.head()"
   ]
  },
  {
   "cell_type": "code",
   "execution_count": null,
   "id": "ce59b167-51b6-4298-b6a3-a2a38badfc93",
   "metadata": {},
   "outputs": [],
   "source": [
    "fd_cattle_daily_returns['Portfolio'] = pd.NaT\n",
    "\n",
    "fd_cattle_daily_returns"
   ]
  },
  {
   "cell_type": "code",
   "execution_count": null,
   "id": "846eea95-a421-4e3c-a99d-c7142e1c04d6",
   "metadata": {},
   "outputs": [],
   "source": [
    "fd_cattle_daily_returns = fd_cattle_daily_returns.assign(Portfolio=(1+fd_cattle_daily_returns['FD Cattle'].fillna(0)).cumprod().mul(starting_value))"
   ]
  },
  {
   "cell_type": "code",
   "execution_count": null,
   "id": "a18415c3-54fb-4867-a596-fb2bc7fc0729",
   "metadata": {},
   "outputs": [],
   "source": [
    "fd_cattle = fd_cattle_daily_returns.rename(columns={'FD Cattle':'FD Cattle Daily Returns',\"Portfolio\":\"FD Cattle Port\"})"
   ]
  },
  {
   "cell_type": "code",
   "execution_count": null,
   "id": "33bcc521-512f-4dd8-a7b3-bd2328c7c167",
   "metadata": {},
   "outputs": [],
   "source": [
    "fd_cattle"
   ]
  },
  {
   "cell_type": "code",
   "execution_count": null,
   "id": "c0030dfe-9808-4e4b-a255-b6c017586745",
   "metadata": {},
   "outputs": [],
   "source": [
    "hogs_daily_returns = hogs_cleaned.pct_change()\n",
    "\n",
    "hogs_daily_returns.head()"
   ]
  },
  {
   "cell_type": "code",
   "execution_count": null,
   "id": "f4c3c0dc-0cc2-4004-9316-409c51acece6",
   "metadata": {},
   "outputs": [],
   "source": [
    "hogs_daily_returns['Portfolio'] = pd.NaT\n",
    "\n",
    "hogs_daily_returns"
   ]
  },
  {
   "cell_type": "code",
   "execution_count": null,
   "id": "4a0043a4-b383-4c81-bc83-093624ff3f91",
   "metadata": {},
   "outputs": [],
   "source": [
    "hogs_daily_returns = hogs_daily_returns.assign(Portfolio=(1+hogs_daily_returns['Hogs'].fillna(0)).cumprod().mul(starting_value))"
   ]
  },
  {
   "cell_type": "code",
   "execution_count": null,
   "id": "fd99c28f-965a-4c2b-ae8c-dd71d8aff334",
   "metadata": {},
   "outputs": [],
   "source": [
    "hogs = hogs_daily_returns.rename(columns={'Hogs':'Hogs Daily Returns',\"Portfolio\":\"Hogs Port\"})\n",
    "hogs.head()"
   ]
  },
  {
   "cell_type": "code",
   "execution_count": null,
   "id": "b2a4a492-1ac1-4001-b72a-724316d0a933",
   "metadata": {},
   "outputs": [],
   "source": [
    "gf_cattle_daily_returns = gf_cattle_cleaned.pct_change()\n",
    "\n",
    "gf_cattle_daily_returns.head()"
   ]
  },
  {
   "cell_type": "code",
   "execution_count": null,
   "id": "fc13536a-5d4c-4031-a9c2-701d7ab8e5d4",
   "metadata": {},
   "outputs": [],
   "source": [
    "gf_cattle_daily_returns['Portfolio'] = pd.NaT\n",
    "\n",
    "gf_cattle_daily_returns"
   ]
  },
  {
   "cell_type": "code",
   "execution_count": null,
   "id": "06975ac7-f453-4095-9591-25a20b37a6be",
   "metadata": {},
   "outputs": [],
   "source": [
    "gf_cattle_daily_returns = gf_cattle_daily_returns.assign(Portfolio=(1+gf_cattle_daily_returns['GF Cattle'].fillna(0)).cumprod().mul(starting_value))"
   ]
  },
  {
   "cell_type": "code",
   "execution_count": null,
   "id": "4398be25-eb8d-4de6-8fca-79986c49ed66",
   "metadata": {},
   "outputs": [],
   "source": [
    "gf_cattle = gf_cattle_daily_returns.rename(columns={'FD Cattle':'FD Cattle Daily Returns',\"Portfolio\":\"GF Cattle Port\"})\n",
    "gf_cattle.head()"
   ]
  },
  {
   "cell_type": "code",
   "execution_count": null,
   "id": "2b499dd9-1c96-4f5b-9233-0580cdb2f3fc",
   "metadata": {},
   "outputs": [],
   "source": [
    "agriculture_daily_returns = pd.concat([wheat, corn, fd_cattle, hogs, gf_cattle], axis=1)"
   ]
  },
  {
   "cell_type": "code",
   "execution_count": null,
   "id": "f010144d-2d1e-485c-987e-77c66cb2c97f",
   "metadata": {},
   "outputs": [],
   "source": [
    "agriculture_daily_returns"
   ]
  },
  {
   "cell_type": "code",
   "execution_count": null,
   "id": "68aa4d37-8eac-4727-92af-8b296f976b53",
   "metadata": {},
   "outputs": [],
   "source": [
    "agriculture_daily_returns.plot()"
   ]
  },
  {
   "cell_type": "code",
   "execution_count": null,
   "id": "b8e30104-a6b9-41a5-885b-e05c35f9401c",
   "metadata": {},
   "outputs": [],
   "source": [
    "agriculture_daily_returns_sliced = agriculture_daily_returns.iloc[:, [1,3,5,7,9]]\n",
    "agriculture_daily_returns_sliced"
   ]
  },
  {
   "cell_type": "code",
   "execution_count": null,
   "id": "9b132944-d6d7-4e05-abd1-eeb7c0120268",
   "metadata": {},
   "outputs": [],
   "source": []
  }
 ],
 "metadata": {
  "kernelspec": {
   "display_name": "Python 3 (ipykernel)",
   "language": "python",
   "name": "python3"
  },
  "language_info": {
   "codemirror_mode": {
    "name": "ipython",
    "version": 3
   },
   "file_extension": ".py",
   "mimetype": "text/x-python",
   "name": "python",
   "nbconvert_exporter": "python",
   "pygments_lexer": "ipython3",
   "version": "3.7.11"
  }
 },
 "nbformat": 4,
 "nbformat_minor": 5
}
